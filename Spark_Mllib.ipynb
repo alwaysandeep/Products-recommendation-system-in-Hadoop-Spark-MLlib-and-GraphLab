{
 "cells": [
  {
   "cell_type": "code",
   "execution_count": 12,
   "metadata": {
    "collapsed": false
   },
   "outputs": [
    {
     "data": {
      "text/plain": [
       "<pyspark.context.SparkContext at 0x7f89a857da90>"
      ]
     },
     "execution_count": 12,
     "metadata": {},
     "output_type": "execute_result"
    }
   ],
   "source": [
    "sc"
   ]
  },
  {
   "cell_type": "code",
   "execution_count": 1,
   "metadata": {
    "collapsed": false
   },
   "outputs": [],
   "source": [
    "from pyspark.mllib.recommendation import ALS, MatrixFactorizationModel, Rating\n",
    "data = sc.textFile(\"file:/home/training/final project/train.csv\")\n",
    "data1=data.filter(lambda l: not l.startswith(\"user\")).map(lambda line:(line.split(\",\")))\n",
    "data2=data1.map(lambda l:(float(l[0].decode(\"utf-8\")),float(l[1].decode(\"utf-8\")),float(l[2].decode(\"utf-8\"))))\n",
    "train_ratings = data2.map(lambda l: Rating(int(l[0]), int(l[1]), float(l[2])))"
   ]
  },
  {
   "cell_type": "code",
   "execution_count": 2,
   "metadata": {
    "collapsed": false
   },
   "outputs": [],
   "source": [
    "from pyspark.mllib.recommendation import ALS"
   ]
  },
  {
   "cell_type": "code",
   "execution_count": 4,
   "metadata": {
    "collapsed": false
   },
   "outputs": [
    {
     "name": "stdout",
     "output_type": "stream",
     "text": [
      "Mean Squared Error = 0.00364187181927\n",
      "Time taken to run the code 172.477\n"
     ]
    }
   ],
   "source": [
    "import time\n",
    "start_time=time.time()\n",
    "rank = 10\n",
    "numIterations = 20\n",
    "model = ALS.train(train_ratings, rank, numIterations)\n",
    "\n",
    "# Evaluate the model on training data1\n",
    "testdata1 = train_ratings.map(lambda p: (p[0], p[1]))\n",
    "predictions = model.predictAll(testdata1).map(lambda r: ((r[0], r[1]), r[2]))\n",
    "ratesAndPreds = train_ratings.map(lambda r: ((r[0], r[1]), r[2])).join(predictions)\n",
    "MSE = ratesAndPreds.map(lambda r: (r[1][0] - r[1][1])**2).reduce(lambda x, y: x + y) / ratesAndPreds.count()\n",
    "print(\"Mean Squared Error = \" + str(MSE))\n",
    "print \"Time taken to run the code {:.3f} seconds\".format(time.time() - start_time)\n",
    "# Save and load model"
   ]
  }
 ],
 "metadata": {
  "anaconda-cloud": {},
  "kernelspec": {
   "display_name": "Python [Root]",
   "language": "python",
   "name": "Python [Root]"
  },
  "language_info": {
   "codemirror_mode": {
    "name": "ipython",
    "version": 2
   },
   "file_extension": ".py",
   "mimetype": "text/x-python",
   "name": "python",
   "nbconvert_exporter": "python",
   "pygments_lexer": "ipython2",
   "version": "2.7.12"
  }
 },
 "nbformat": 4,
 "nbformat_minor": 0
}
